{
 "cells": [
  {
   "cell_type": "code",
   "execution_count": 1,
   "metadata": {
    "collapsed": true
   },
   "outputs": [],
   "source": [
    "import pandas as pd"
   ]
  },
  {
   "cell_type": "code",
   "execution_count": 35,
   "outputs": [],
   "source": [
    "df = pd.read_csv('../data/superstore_raw.csv')"
   ],
   "metadata": {
    "collapsed": false,
    "pycharm": {
     "name": "#%%\n"
    }
   }
  },
  {
   "cell_type": "code",
   "execution_count": 3,
   "outputs": [
    {
     "data": {
      "text/plain": "Row ID              int64\nOrder ID           object\nOrder Date         object\nShip Date          object\nShip Mode          object\nCustomer ID        object\nCustomer Name      object\nSegment            object\nCity               object\nState              object\nCountry            object\nPostal Code       float64\nMarket             object\nRegion             object\nProduct ID         object\nCategory           object\nSub-Category       object\nProduct Name       object\nSales             float64\nQuantity            int64\nDiscount          float64\nProfit            float64\nShipping Cost     float64\nOrder Priority     object\ndtype: object"
     },
     "execution_count": 3,
     "metadata": {},
     "output_type": "execute_result"
    }
   ],
   "source": [
    "df.dtypes"
   ],
   "metadata": {
    "collapsed": false,
    "pycharm": {
     "name": "#%%\n"
    }
   }
  },
  {
   "cell_type": "code",
   "execution_count": 36,
   "outputs": [
    {
     "data": {
      "text/plain": "    Row ID         Order ID Order Date Ship Date       Ship Mode Customer ID  \\\n0    42433     AG-2011-2040   1/1/2011  6/1/2011  Standard Class    TB-11280   \n1    22253    IN-2011-47883   1/1/2011  8/1/2011  Standard Class    JH-15985   \n2    48883     HU-2011-1220   1/1/2011  5/1/2011    Second Class      AT-735   \n3    11731  IT-2011-3647632   1/1/2011  5/1/2011    Second Class    EM-14140   \n4    22255    IN-2011-47883   1/1/2011  8/1/2011  Standard Class    JH-15985   \n..     ...              ...        ...       ...             ...         ...   \n95    3684   US-2011-148852   1/4/2011  4/4/2011    Second Class    VP-21760   \n96    2463   MX-2011-167773   1/4/2011  5/4/2011  Standard Class    LS-17245   \n97   32670   US-2011-157021   1/4/2011  6/4/2011    Second Class    KM-16720   \n98   39251   CA-2011-138359   1/4/2011  6/4/2011  Standard Class    KH-16330   \n99   22375    ID-2011-77192   1/4/2011  5/4/2011  Standard Class    RP-19270   \n\n       Customer Name      Segment         City            State  ...  \\\n0    Toby Braunhardt     Consumer  Constantine      Constantine  ...   \n1        Joseph Holt     Consumer  Wagga Wagga  New South Wales  ...   \n2      Annie Thurman     Consumer     Budapest         Budapest  ...   \n3       Eugene Moren  Home Office    Stockholm        Stockholm  ...   \n4        Joseph Holt     Consumer  Wagga Wagga  New South Wales  ...   \n..               ...          ...          ...              ...  ...   \n95  Victoria Pisteka    Corporate     Arraiján           Panama  ...   \n96        Lynn Smith     Consumer       Bogotá           Bogota  ...   \n97      Kunst Miller     Consumer      Vallejo       California  ...   \n98   Katharine Harms    Corporate       Revere    Massachusetts  ...   \n99      Rachel Payne    Corporate     Aew?l-li             Jeju  ...   \n\n          Product ID         Category Sub-Category  \\\n0   OFF-TEN-10000025  Office Supplies      Storage   \n1    OFF-SU-10000618  Office Supplies     Supplies   \n2   OFF-TEN-10001585  Office Supplies      Storage   \n3    OFF-PA-10001492  Office Supplies        Paper   \n4    FUR-FU-10003447        Furniture  Furnishings   \n..               ...              ...          ...   \n95   OFF-BI-10004305  Office Supplies      Binders   \n96   OFF-BI-10002222  Office Supplies      Binders   \n97   OFF-BI-10000042  Office Supplies      Binders   \n98   OFF-BI-10000145  Office Supplies      Binders   \n99   OFF-LA-10001764  Office Supplies       Labels   \n\n                                     Product Name    Sales Quantity Discount  \\\n0                             Tenex Lockers, Blue  408.300        2      0.0   \n1                        Acme Trimmer, High Speed  120.366        3      0.1   \n2                         Tenex Box, Single Width   66.120        4      0.0   \n3                     Enermax Note Cards, Premium   44.865        3      0.5   \n4                      Eldon Light Bulb, Duo Pack  113.670        5      0.1   \n..                                            ...      ...      ...      ...   \n95          Cardinal Hole Reinforcements, Durable   10.944        4      0.4   \n96                  Cardinal Binder Covers, Clear   15.280        2      0.0   \n97  Pressboard Data Binder, Crimson, 12\" X 8 1/2\"   17.088        4      0.2   \n98                     Zipper Ring Binder Pockets    6.240        2      0.0   \n99                 Avery Round Labels, Adjustable   10.080        4      0.5   \n\n      Profit  Shipping Cost  Order Priority  \n0   106.1400          35.46          Medium  \n1    36.0360           9.72          Medium  \n2    29.6400           8.17            High  \n3   -26.0550           4.82            High  \n4    37.7700           4.70          Medium  \n..       ...            ...             ...  \n95   -3.1360           1.37            High  \n96    1.9600           1.20            High  \n97    5.5536           0.65          Medium  \n98    3.0576           0.34          Medium  \n99   -9.1200           0.32          Medium  \n\n[100 rows x 24 columns]",
      "text/html": "<div>\n<style scoped>\n    .dataframe tbody tr th:only-of-type {\n        vertical-align: middle;\n    }\n\n    .dataframe tbody tr th {\n        vertical-align: top;\n    }\n\n    .dataframe thead th {\n        text-align: right;\n    }\n</style>\n<table border=\"1\" class=\"dataframe\">\n  <thead>\n    <tr style=\"text-align: right;\">\n      <th></th>\n      <th>Row ID</th>\n      <th>Order ID</th>\n      <th>Order Date</th>\n      <th>Ship Date</th>\n      <th>Ship Mode</th>\n      <th>Customer ID</th>\n      <th>Customer Name</th>\n      <th>Segment</th>\n      <th>City</th>\n      <th>State</th>\n      <th>...</th>\n      <th>Product ID</th>\n      <th>Category</th>\n      <th>Sub-Category</th>\n      <th>Product Name</th>\n      <th>Sales</th>\n      <th>Quantity</th>\n      <th>Discount</th>\n      <th>Profit</th>\n      <th>Shipping Cost</th>\n      <th>Order Priority</th>\n    </tr>\n  </thead>\n  <tbody>\n    <tr>\n      <th>0</th>\n      <td>42433</td>\n      <td>AG-2011-2040</td>\n      <td>1/1/2011</td>\n      <td>6/1/2011</td>\n      <td>Standard Class</td>\n      <td>TB-11280</td>\n      <td>Toby Braunhardt</td>\n      <td>Consumer</td>\n      <td>Constantine</td>\n      <td>Constantine</td>\n      <td>...</td>\n      <td>OFF-TEN-10000025</td>\n      <td>Office Supplies</td>\n      <td>Storage</td>\n      <td>Tenex Lockers, Blue</td>\n      <td>408.300</td>\n      <td>2</td>\n      <td>0.0</td>\n      <td>106.1400</td>\n      <td>35.46</td>\n      <td>Medium</td>\n    </tr>\n    <tr>\n      <th>1</th>\n      <td>22253</td>\n      <td>IN-2011-47883</td>\n      <td>1/1/2011</td>\n      <td>8/1/2011</td>\n      <td>Standard Class</td>\n      <td>JH-15985</td>\n      <td>Joseph Holt</td>\n      <td>Consumer</td>\n      <td>Wagga Wagga</td>\n      <td>New South Wales</td>\n      <td>...</td>\n      <td>OFF-SU-10000618</td>\n      <td>Office Supplies</td>\n      <td>Supplies</td>\n      <td>Acme Trimmer, High Speed</td>\n      <td>120.366</td>\n      <td>3</td>\n      <td>0.1</td>\n      <td>36.0360</td>\n      <td>9.72</td>\n      <td>Medium</td>\n    </tr>\n    <tr>\n      <th>2</th>\n      <td>48883</td>\n      <td>HU-2011-1220</td>\n      <td>1/1/2011</td>\n      <td>5/1/2011</td>\n      <td>Second Class</td>\n      <td>AT-735</td>\n      <td>Annie Thurman</td>\n      <td>Consumer</td>\n      <td>Budapest</td>\n      <td>Budapest</td>\n      <td>...</td>\n      <td>OFF-TEN-10001585</td>\n      <td>Office Supplies</td>\n      <td>Storage</td>\n      <td>Tenex Box, Single Width</td>\n      <td>66.120</td>\n      <td>4</td>\n      <td>0.0</td>\n      <td>29.6400</td>\n      <td>8.17</td>\n      <td>High</td>\n    </tr>\n    <tr>\n      <th>3</th>\n      <td>11731</td>\n      <td>IT-2011-3647632</td>\n      <td>1/1/2011</td>\n      <td>5/1/2011</td>\n      <td>Second Class</td>\n      <td>EM-14140</td>\n      <td>Eugene Moren</td>\n      <td>Home Office</td>\n      <td>Stockholm</td>\n      <td>Stockholm</td>\n      <td>...</td>\n      <td>OFF-PA-10001492</td>\n      <td>Office Supplies</td>\n      <td>Paper</td>\n      <td>Enermax Note Cards, Premium</td>\n      <td>44.865</td>\n      <td>3</td>\n      <td>0.5</td>\n      <td>-26.0550</td>\n      <td>4.82</td>\n      <td>High</td>\n    </tr>\n    <tr>\n      <th>4</th>\n      <td>22255</td>\n      <td>IN-2011-47883</td>\n      <td>1/1/2011</td>\n      <td>8/1/2011</td>\n      <td>Standard Class</td>\n      <td>JH-15985</td>\n      <td>Joseph Holt</td>\n      <td>Consumer</td>\n      <td>Wagga Wagga</td>\n      <td>New South Wales</td>\n      <td>...</td>\n      <td>FUR-FU-10003447</td>\n      <td>Furniture</td>\n      <td>Furnishings</td>\n      <td>Eldon Light Bulb, Duo Pack</td>\n      <td>113.670</td>\n      <td>5</td>\n      <td>0.1</td>\n      <td>37.7700</td>\n      <td>4.70</td>\n      <td>Medium</td>\n    </tr>\n    <tr>\n      <th>...</th>\n      <td>...</td>\n      <td>...</td>\n      <td>...</td>\n      <td>...</td>\n      <td>...</td>\n      <td>...</td>\n      <td>...</td>\n      <td>...</td>\n      <td>...</td>\n      <td>...</td>\n      <td>...</td>\n      <td>...</td>\n      <td>...</td>\n      <td>...</td>\n      <td>...</td>\n      <td>...</td>\n      <td>...</td>\n      <td>...</td>\n      <td>...</td>\n      <td>...</td>\n      <td>...</td>\n    </tr>\n    <tr>\n      <th>95</th>\n      <td>3684</td>\n      <td>US-2011-148852</td>\n      <td>1/4/2011</td>\n      <td>4/4/2011</td>\n      <td>Second Class</td>\n      <td>VP-21760</td>\n      <td>Victoria Pisteka</td>\n      <td>Corporate</td>\n      <td>Arraiján</td>\n      <td>Panama</td>\n      <td>...</td>\n      <td>OFF-BI-10004305</td>\n      <td>Office Supplies</td>\n      <td>Binders</td>\n      <td>Cardinal Hole Reinforcements, Durable</td>\n      <td>10.944</td>\n      <td>4</td>\n      <td>0.4</td>\n      <td>-3.1360</td>\n      <td>1.37</td>\n      <td>High</td>\n    </tr>\n    <tr>\n      <th>96</th>\n      <td>2463</td>\n      <td>MX-2011-167773</td>\n      <td>1/4/2011</td>\n      <td>5/4/2011</td>\n      <td>Standard Class</td>\n      <td>LS-17245</td>\n      <td>Lynn Smith</td>\n      <td>Consumer</td>\n      <td>Bogotá</td>\n      <td>Bogota</td>\n      <td>...</td>\n      <td>OFF-BI-10002222</td>\n      <td>Office Supplies</td>\n      <td>Binders</td>\n      <td>Cardinal Binder Covers, Clear</td>\n      <td>15.280</td>\n      <td>2</td>\n      <td>0.0</td>\n      <td>1.9600</td>\n      <td>1.20</td>\n      <td>High</td>\n    </tr>\n    <tr>\n      <th>97</th>\n      <td>32670</td>\n      <td>US-2011-157021</td>\n      <td>1/4/2011</td>\n      <td>6/4/2011</td>\n      <td>Second Class</td>\n      <td>KM-16720</td>\n      <td>Kunst Miller</td>\n      <td>Consumer</td>\n      <td>Vallejo</td>\n      <td>California</td>\n      <td>...</td>\n      <td>OFF-BI-10000042</td>\n      <td>Office Supplies</td>\n      <td>Binders</td>\n      <td>Pressboard Data Binder, Crimson, 12\" X 8 1/2\"</td>\n      <td>17.088</td>\n      <td>4</td>\n      <td>0.2</td>\n      <td>5.5536</td>\n      <td>0.65</td>\n      <td>Medium</td>\n    </tr>\n    <tr>\n      <th>98</th>\n      <td>39251</td>\n      <td>CA-2011-138359</td>\n      <td>1/4/2011</td>\n      <td>6/4/2011</td>\n      <td>Standard Class</td>\n      <td>KH-16330</td>\n      <td>Katharine Harms</td>\n      <td>Corporate</td>\n      <td>Revere</td>\n      <td>Massachusetts</td>\n      <td>...</td>\n      <td>OFF-BI-10000145</td>\n      <td>Office Supplies</td>\n      <td>Binders</td>\n      <td>Zipper Ring Binder Pockets</td>\n      <td>6.240</td>\n      <td>2</td>\n      <td>0.0</td>\n      <td>3.0576</td>\n      <td>0.34</td>\n      <td>Medium</td>\n    </tr>\n    <tr>\n      <th>99</th>\n      <td>22375</td>\n      <td>ID-2011-77192</td>\n      <td>1/4/2011</td>\n      <td>5/4/2011</td>\n      <td>Standard Class</td>\n      <td>RP-19270</td>\n      <td>Rachel Payne</td>\n      <td>Corporate</td>\n      <td>Aew?l-li</td>\n      <td>Jeju</td>\n      <td>...</td>\n      <td>OFF-LA-10001764</td>\n      <td>Office Supplies</td>\n      <td>Labels</td>\n      <td>Avery Round Labels, Adjustable</td>\n      <td>10.080</td>\n      <td>4</td>\n      <td>0.5</td>\n      <td>-9.1200</td>\n      <td>0.32</td>\n      <td>Medium</td>\n    </tr>\n  </tbody>\n</table>\n<p>100 rows × 24 columns</p>\n</div>"
     },
     "execution_count": 36,
     "metadata": {},
     "output_type": "execute_result"
    }
   ],
   "source": [
    "df.head(100)"
   ],
   "metadata": {
    "collapsed": false,
    "pycharm": {
     "name": "#%%\n"
    }
   }
  },
  {
   "cell_type": "code",
   "execution_count": 37,
   "outputs": [],
   "source": [
    "df['order_date_1'] = pd.to_datetime(df['Order Date'], format='%m/%d/%Y', errors='coerce')\n",
    "df['order_date_2'] = pd.to_datetime(df['Order Date'], format='%d-%m-%Y', errors='coerce')"
   ],
   "metadata": {
    "collapsed": false,
    "pycharm": {
     "name": "#%%\n"
    }
   }
  },
  {
   "cell_type": "code",
   "execution_count": 38,
   "outputs": [],
   "source": [
    "df['ship_date_1'] = pd.to_datetime(df['Ship Date'], format='%m/%d/%Y', errors='coerce')\n",
    "df['ship_date_2'] = pd.to_datetime(df['Ship Date'], format='%d-%m-%Y', errors='coerce')"
   ],
   "metadata": {
    "collapsed": false,
    "pycharm": {
     "name": "#%%\n"
    }
   }
  },
  {
   "cell_type": "code",
   "execution_count": 39,
   "outputs": [],
   "source": [
    "df['order_date'] = df['order_date_1'].fillna(df['order_date_2'])\n",
    "df['ship_date'] = df['ship_date_1'].fillna(df['ship_date_2'])"
   ],
   "metadata": {
    "collapsed": false,
    "pycharm": {
     "name": "#%%\n"
    }
   }
  },
  {
   "cell_type": "code",
   "execution_count": 40,
   "outputs": [],
   "source": [
    "df = df.drop(columns=['order_date_1','order_date_2','ship_date_1','ship_date_2','Order Date','Ship Date'])"
   ],
   "metadata": {
    "collapsed": false,
    "pycharm": {
     "name": "#%%\n"
    }
   }
  },
  {
   "cell_type": "code",
   "execution_count": 42,
   "outputs": [],
   "source": [
    "df = df.rename(columns={'order_date': 'Order Date', 'ship_date' : 'Ship Date'})"
   ],
   "metadata": {
    "collapsed": false,
    "pycharm": {
     "name": "#%%\n"
    }
   }
  },
  {
   "cell_type": "code",
   "execution_count": 43,
   "outputs": [
    {
     "data": {
      "text/plain": "    Row ID         Order ID       Ship Mode Customer ID     Customer Name  \\\n0    42433     AG-2011-2040  Standard Class    TB-11280   Toby Braunhardt   \n1    22253    IN-2011-47883  Standard Class    JH-15985       Joseph Holt   \n2    48883     HU-2011-1220    Second Class      AT-735     Annie Thurman   \n3    11731  IT-2011-3647632    Second Class    EM-14140      Eugene Moren   \n4    22255    IN-2011-47883  Standard Class    JH-15985       Joseph Holt   \n..     ...              ...             ...         ...               ...   \n95    3684   US-2011-148852    Second Class    VP-21760  Victoria Pisteka   \n96    2463   MX-2011-167773  Standard Class    LS-17245        Lynn Smith   \n97   32670   US-2011-157021    Second Class    KM-16720      Kunst Miller   \n98   39251   CA-2011-138359  Standard Class    KH-16330   Katharine Harms   \n99   22375    ID-2011-77192  Standard Class    RP-19270      Rachel Payne   \n\n        Segment         City            State        Country  Postal Code  \\\n0      Consumer  Constantine      Constantine        Algeria          NaN   \n1      Consumer  Wagga Wagga  New South Wales      Australia          NaN   \n2      Consumer     Budapest         Budapest        Hungary          NaN   \n3   Home Office    Stockholm        Stockholm         Sweden          NaN   \n4      Consumer  Wagga Wagga  New South Wales      Australia          NaN   \n..          ...          ...              ...            ...          ...   \n95    Corporate     Arraiján           Panama         Panama          NaN   \n96     Consumer       Bogotá           Bogota       Colombia          NaN   \n97     Consumer      Vallejo       California  United States      94591.0   \n98    Corporate       Revere    Massachusetts  United States       2151.0   \n99    Corporate     Aew?l-li             Jeju    South Korea          NaN   \n\n    ... Sub-Category                                   Product Name    Sales  \\\n0   ...      Storage                            Tenex Lockers, Blue  408.300   \n1   ...     Supplies                       Acme Trimmer, High Speed  120.366   \n2   ...      Storage                        Tenex Box, Single Width   66.120   \n3   ...        Paper                    Enermax Note Cards, Premium   44.865   \n4   ...  Furnishings                     Eldon Light Bulb, Duo Pack  113.670   \n..  ...          ...                                            ...      ...   \n95  ...      Binders          Cardinal Hole Reinforcements, Durable   10.944   \n96  ...      Binders                  Cardinal Binder Covers, Clear   15.280   \n97  ...      Binders  Pressboard Data Binder, Crimson, 12\" X 8 1/2\"   17.088   \n98  ...      Binders                     Zipper Ring Binder Pockets    6.240   \n99  ...       Labels                 Avery Round Labels, Adjustable   10.080   \n\n   Quantity Discount    Profit  Shipping Cost  Order Priority  Order Date  \\\n0         2      0.0  106.1400          35.46          Medium  2011-01-01   \n1         3      0.1   36.0360           9.72          Medium  2011-01-01   \n2         4      0.0   29.6400           8.17            High  2011-01-01   \n3         3      0.5  -26.0550           4.82            High  2011-01-01   \n4         5      0.1   37.7700           4.70          Medium  2011-01-01   \n..      ...      ...       ...            ...             ...         ...   \n95        4      0.4   -3.1360           1.37            High  2011-01-04   \n96        2      0.0    1.9600           1.20            High  2011-01-04   \n97        4      0.2    5.5536           0.65          Medium  2011-01-04   \n98        2      0.0    3.0576           0.34          Medium  2011-01-04   \n99        4      0.5   -9.1200           0.32          Medium  2011-01-04   \n\n    Ship Date  \n0  2011-06-01  \n1  2011-08-01  \n2  2011-05-01  \n3  2011-05-01  \n4  2011-08-01  \n..        ...  \n95 2011-04-04  \n96 2011-05-04  \n97 2011-06-04  \n98 2011-06-04  \n99 2011-05-04  \n\n[100 rows x 24 columns]",
      "text/html": "<div>\n<style scoped>\n    .dataframe tbody tr th:only-of-type {\n        vertical-align: middle;\n    }\n\n    .dataframe tbody tr th {\n        vertical-align: top;\n    }\n\n    .dataframe thead th {\n        text-align: right;\n    }\n</style>\n<table border=\"1\" class=\"dataframe\">\n  <thead>\n    <tr style=\"text-align: right;\">\n      <th></th>\n      <th>Row ID</th>\n      <th>Order ID</th>\n      <th>Ship Mode</th>\n      <th>Customer ID</th>\n      <th>Customer Name</th>\n      <th>Segment</th>\n      <th>City</th>\n      <th>State</th>\n      <th>Country</th>\n      <th>Postal Code</th>\n      <th>...</th>\n      <th>Sub-Category</th>\n      <th>Product Name</th>\n      <th>Sales</th>\n      <th>Quantity</th>\n      <th>Discount</th>\n      <th>Profit</th>\n      <th>Shipping Cost</th>\n      <th>Order Priority</th>\n      <th>Order Date</th>\n      <th>Ship Date</th>\n    </tr>\n  </thead>\n  <tbody>\n    <tr>\n      <th>0</th>\n      <td>42433</td>\n      <td>AG-2011-2040</td>\n      <td>Standard Class</td>\n      <td>TB-11280</td>\n      <td>Toby Braunhardt</td>\n      <td>Consumer</td>\n      <td>Constantine</td>\n      <td>Constantine</td>\n      <td>Algeria</td>\n      <td>NaN</td>\n      <td>...</td>\n      <td>Storage</td>\n      <td>Tenex Lockers, Blue</td>\n      <td>408.300</td>\n      <td>2</td>\n      <td>0.0</td>\n      <td>106.1400</td>\n      <td>35.46</td>\n      <td>Medium</td>\n      <td>2011-01-01</td>\n      <td>2011-06-01</td>\n    </tr>\n    <tr>\n      <th>1</th>\n      <td>22253</td>\n      <td>IN-2011-47883</td>\n      <td>Standard Class</td>\n      <td>JH-15985</td>\n      <td>Joseph Holt</td>\n      <td>Consumer</td>\n      <td>Wagga Wagga</td>\n      <td>New South Wales</td>\n      <td>Australia</td>\n      <td>NaN</td>\n      <td>...</td>\n      <td>Supplies</td>\n      <td>Acme Trimmer, High Speed</td>\n      <td>120.366</td>\n      <td>3</td>\n      <td>0.1</td>\n      <td>36.0360</td>\n      <td>9.72</td>\n      <td>Medium</td>\n      <td>2011-01-01</td>\n      <td>2011-08-01</td>\n    </tr>\n    <tr>\n      <th>2</th>\n      <td>48883</td>\n      <td>HU-2011-1220</td>\n      <td>Second Class</td>\n      <td>AT-735</td>\n      <td>Annie Thurman</td>\n      <td>Consumer</td>\n      <td>Budapest</td>\n      <td>Budapest</td>\n      <td>Hungary</td>\n      <td>NaN</td>\n      <td>...</td>\n      <td>Storage</td>\n      <td>Tenex Box, Single Width</td>\n      <td>66.120</td>\n      <td>4</td>\n      <td>0.0</td>\n      <td>29.6400</td>\n      <td>8.17</td>\n      <td>High</td>\n      <td>2011-01-01</td>\n      <td>2011-05-01</td>\n    </tr>\n    <tr>\n      <th>3</th>\n      <td>11731</td>\n      <td>IT-2011-3647632</td>\n      <td>Second Class</td>\n      <td>EM-14140</td>\n      <td>Eugene Moren</td>\n      <td>Home Office</td>\n      <td>Stockholm</td>\n      <td>Stockholm</td>\n      <td>Sweden</td>\n      <td>NaN</td>\n      <td>...</td>\n      <td>Paper</td>\n      <td>Enermax Note Cards, Premium</td>\n      <td>44.865</td>\n      <td>3</td>\n      <td>0.5</td>\n      <td>-26.0550</td>\n      <td>4.82</td>\n      <td>High</td>\n      <td>2011-01-01</td>\n      <td>2011-05-01</td>\n    </tr>\n    <tr>\n      <th>4</th>\n      <td>22255</td>\n      <td>IN-2011-47883</td>\n      <td>Standard Class</td>\n      <td>JH-15985</td>\n      <td>Joseph Holt</td>\n      <td>Consumer</td>\n      <td>Wagga Wagga</td>\n      <td>New South Wales</td>\n      <td>Australia</td>\n      <td>NaN</td>\n      <td>...</td>\n      <td>Furnishings</td>\n      <td>Eldon Light Bulb, Duo Pack</td>\n      <td>113.670</td>\n      <td>5</td>\n      <td>0.1</td>\n      <td>37.7700</td>\n      <td>4.70</td>\n      <td>Medium</td>\n      <td>2011-01-01</td>\n      <td>2011-08-01</td>\n    </tr>\n    <tr>\n      <th>...</th>\n      <td>...</td>\n      <td>...</td>\n      <td>...</td>\n      <td>...</td>\n      <td>...</td>\n      <td>...</td>\n      <td>...</td>\n      <td>...</td>\n      <td>...</td>\n      <td>...</td>\n      <td>...</td>\n      <td>...</td>\n      <td>...</td>\n      <td>...</td>\n      <td>...</td>\n      <td>...</td>\n      <td>...</td>\n      <td>...</td>\n      <td>...</td>\n      <td>...</td>\n      <td>...</td>\n    </tr>\n    <tr>\n      <th>95</th>\n      <td>3684</td>\n      <td>US-2011-148852</td>\n      <td>Second Class</td>\n      <td>VP-21760</td>\n      <td>Victoria Pisteka</td>\n      <td>Corporate</td>\n      <td>Arraiján</td>\n      <td>Panama</td>\n      <td>Panama</td>\n      <td>NaN</td>\n      <td>...</td>\n      <td>Binders</td>\n      <td>Cardinal Hole Reinforcements, Durable</td>\n      <td>10.944</td>\n      <td>4</td>\n      <td>0.4</td>\n      <td>-3.1360</td>\n      <td>1.37</td>\n      <td>High</td>\n      <td>2011-01-04</td>\n      <td>2011-04-04</td>\n    </tr>\n    <tr>\n      <th>96</th>\n      <td>2463</td>\n      <td>MX-2011-167773</td>\n      <td>Standard Class</td>\n      <td>LS-17245</td>\n      <td>Lynn Smith</td>\n      <td>Consumer</td>\n      <td>Bogotá</td>\n      <td>Bogota</td>\n      <td>Colombia</td>\n      <td>NaN</td>\n      <td>...</td>\n      <td>Binders</td>\n      <td>Cardinal Binder Covers, Clear</td>\n      <td>15.280</td>\n      <td>2</td>\n      <td>0.0</td>\n      <td>1.9600</td>\n      <td>1.20</td>\n      <td>High</td>\n      <td>2011-01-04</td>\n      <td>2011-05-04</td>\n    </tr>\n    <tr>\n      <th>97</th>\n      <td>32670</td>\n      <td>US-2011-157021</td>\n      <td>Second Class</td>\n      <td>KM-16720</td>\n      <td>Kunst Miller</td>\n      <td>Consumer</td>\n      <td>Vallejo</td>\n      <td>California</td>\n      <td>United States</td>\n      <td>94591.0</td>\n      <td>...</td>\n      <td>Binders</td>\n      <td>Pressboard Data Binder, Crimson, 12\" X 8 1/2\"</td>\n      <td>17.088</td>\n      <td>4</td>\n      <td>0.2</td>\n      <td>5.5536</td>\n      <td>0.65</td>\n      <td>Medium</td>\n      <td>2011-01-04</td>\n      <td>2011-06-04</td>\n    </tr>\n    <tr>\n      <th>98</th>\n      <td>39251</td>\n      <td>CA-2011-138359</td>\n      <td>Standard Class</td>\n      <td>KH-16330</td>\n      <td>Katharine Harms</td>\n      <td>Corporate</td>\n      <td>Revere</td>\n      <td>Massachusetts</td>\n      <td>United States</td>\n      <td>2151.0</td>\n      <td>...</td>\n      <td>Binders</td>\n      <td>Zipper Ring Binder Pockets</td>\n      <td>6.240</td>\n      <td>2</td>\n      <td>0.0</td>\n      <td>3.0576</td>\n      <td>0.34</td>\n      <td>Medium</td>\n      <td>2011-01-04</td>\n      <td>2011-06-04</td>\n    </tr>\n    <tr>\n      <th>99</th>\n      <td>22375</td>\n      <td>ID-2011-77192</td>\n      <td>Standard Class</td>\n      <td>RP-19270</td>\n      <td>Rachel Payne</td>\n      <td>Corporate</td>\n      <td>Aew?l-li</td>\n      <td>Jeju</td>\n      <td>South Korea</td>\n      <td>NaN</td>\n      <td>...</td>\n      <td>Labels</td>\n      <td>Avery Round Labels, Adjustable</td>\n      <td>10.080</td>\n      <td>4</td>\n      <td>0.5</td>\n      <td>-9.1200</td>\n      <td>0.32</td>\n      <td>Medium</td>\n      <td>2011-01-04</td>\n      <td>2011-05-04</td>\n    </tr>\n  </tbody>\n</table>\n<p>100 rows × 24 columns</p>\n</div>"
     },
     "execution_count": 43,
     "metadata": {},
     "output_type": "execute_result"
    }
   ],
   "source": [
    "df.head(100)"
   ],
   "metadata": {
    "collapsed": false,
    "pycharm": {
     "name": "#%%\n"
    }
   }
  },
  {
   "cell_type": "code",
   "execution_count": 44,
   "outputs": [],
   "source": [
    "df = df[[\n",
    "    \"Row ID\",\n",
    "    \"Order ID\",\n",
    "    \"Ship Mode\",\n",
    "    \"Customer ID\",\n",
    "    \"Customer Name\",\n",
    "    \"Order Date\",\n",
    "    \"Ship Date\",\n",
    "    \"Segment\",\n",
    "    \"City\",\n",
    "    \"State\",\n",
    "    \"Country\",\n",
    "    \"Postal Code\",\n",
    "    \"Market\",\n",
    "    \"Region\",\n",
    "    \"Product ID\",\n",
    "    \"Category\",\n",
    "    \"Sub-Category\",\n",
    "    \"Product Name\",\n",
    "    \"Sales\",\n",
    "    \"Quantity\",\n",
    "    \"Discount\",\n",
    "    \"Profit\",\n",
    "    \"Shipping Cost\",\n",
    "    \"Order Priority\"\n",
    "]]"
   ],
   "metadata": {
    "collapsed": false,
    "pycharm": {
     "name": "#%%\n"
    }
   }
  },
  {
   "cell_type": "code",
   "execution_count": 45,
   "outputs": [
    {
     "data": {
      "text/plain": "    Row ID         Order ID       Ship Mode Customer ID     Customer Name  \\\n0    42433     AG-2011-2040  Standard Class    TB-11280   Toby Braunhardt   \n1    22253    IN-2011-47883  Standard Class    JH-15985       Joseph Holt   \n2    48883     HU-2011-1220    Second Class      AT-735     Annie Thurman   \n3    11731  IT-2011-3647632    Second Class    EM-14140      Eugene Moren   \n4    22255    IN-2011-47883  Standard Class    JH-15985       Joseph Holt   \n..     ...              ...             ...         ...               ...   \n95    3684   US-2011-148852    Second Class    VP-21760  Victoria Pisteka   \n96    2463   MX-2011-167773  Standard Class    LS-17245        Lynn Smith   \n97   32670   US-2011-157021    Second Class    KM-16720      Kunst Miller   \n98   39251   CA-2011-138359  Standard Class    KH-16330   Katharine Harms   \n99   22375    ID-2011-77192  Standard Class    RP-19270      Rachel Payne   \n\n   Order Date  Ship Date      Segment         City            State  ...  \\\n0  2011-01-01 2011-06-01     Consumer  Constantine      Constantine  ...   \n1  2011-01-01 2011-08-01     Consumer  Wagga Wagga  New South Wales  ...   \n2  2011-01-01 2011-05-01     Consumer     Budapest         Budapest  ...   \n3  2011-01-01 2011-05-01  Home Office    Stockholm        Stockholm  ...   \n4  2011-01-01 2011-08-01     Consumer  Wagga Wagga  New South Wales  ...   \n..        ...        ...          ...          ...              ...  ...   \n95 2011-01-04 2011-04-04    Corporate     Arraiján           Panama  ...   \n96 2011-01-04 2011-05-04     Consumer       Bogotá           Bogota  ...   \n97 2011-01-04 2011-06-04     Consumer      Vallejo       California  ...   \n98 2011-01-04 2011-06-04    Corporate       Revere    Massachusetts  ...   \n99 2011-01-04 2011-05-04    Corporate     Aew?l-li             Jeju  ...   \n\n          Product ID         Category Sub-Category  \\\n0   OFF-TEN-10000025  Office Supplies      Storage   \n1    OFF-SU-10000618  Office Supplies     Supplies   \n2   OFF-TEN-10001585  Office Supplies      Storage   \n3    OFF-PA-10001492  Office Supplies        Paper   \n4    FUR-FU-10003447        Furniture  Furnishings   \n..               ...              ...          ...   \n95   OFF-BI-10004305  Office Supplies      Binders   \n96   OFF-BI-10002222  Office Supplies      Binders   \n97   OFF-BI-10000042  Office Supplies      Binders   \n98   OFF-BI-10000145  Office Supplies      Binders   \n99   OFF-LA-10001764  Office Supplies       Labels   \n\n                                     Product Name    Sales Quantity Discount  \\\n0                             Tenex Lockers, Blue  408.300        2      0.0   \n1                        Acme Trimmer, High Speed  120.366        3      0.1   \n2                         Tenex Box, Single Width   66.120        4      0.0   \n3                     Enermax Note Cards, Premium   44.865        3      0.5   \n4                      Eldon Light Bulb, Duo Pack  113.670        5      0.1   \n..                                            ...      ...      ...      ...   \n95          Cardinal Hole Reinforcements, Durable   10.944        4      0.4   \n96                  Cardinal Binder Covers, Clear   15.280        2      0.0   \n97  Pressboard Data Binder, Crimson, 12\" X 8 1/2\"   17.088        4      0.2   \n98                     Zipper Ring Binder Pockets    6.240        2      0.0   \n99                 Avery Round Labels, Adjustable   10.080        4      0.5   \n\n      Profit  Shipping Cost  Order Priority  \n0   106.1400          35.46          Medium  \n1    36.0360           9.72          Medium  \n2    29.6400           8.17            High  \n3   -26.0550           4.82            High  \n4    37.7700           4.70          Medium  \n..       ...            ...             ...  \n95   -3.1360           1.37            High  \n96    1.9600           1.20            High  \n97    5.5536           0.65          Medium  \n98    3.0576           0.34          Medium  \n99   -9.1200           0.32          Medium  \n\n[100 rows x 24 columns]",
      "text/html": "<div>\n<style scoped>\n    .dataframe tbody tr th:only-of-type {\n        vertical-align: middle;\n    }\n\n    .dataframe tbody tr th {\n        vertical-align: top;\n    }\n\n    .dataframe thead th {\n        text-align: right;\n    }\n</style>\n<table border=\"1\" class=\"dataframe\">\n  <thead>\n    <tr style=\"text-align: right;\">\n      <th></th>\n      <th>Row ID</th>\n      <th>Order ID</th>\n      <th>Ship Mode</th>\n      <th>Customer ID</th>\n      <th>Customer Name</th>\n      <th>Order Date</th>\n      <th>Ship Date</th>\n      <th>Segment</th>\n      <th>City</th>\n      <th>State</th>\n      <th>...</th>\n      <th>Product ID</th>\n      <th>Category</th>\n      <th>Sub-Category</th>\n      <th>Product Name</th>\n      <th>Sales</th>\n      <th>Quantity</th>\n      <th>Discount</th>\n      <th>Profit</th>\n      <th>Shipping Cost</th>\n      <th>Order Priority</th>\n    </tr>\n  </thead>\n  <tbody>\n    <tr>\n      <th>0</th>\n      <td>42433</td>\n      <td>AG-2011-2040</td>\n      <td>Standard Class</td>\n      <td>TB-11280</td>\n      <td>Toby Braunhardt</td>\n      <td>2011-01-01</td>\n      <td>2011-06-01</td>\n      <td>Consumer</td>\n      <td>Constantine</td>\n      <td>Constantine</td>\n      <td>...</td>\n      <td>OFF-TEN-10000025</td>\n      <td>Office Supplies</td>\n      <td>Storage</td>\n      <td>Tenex Lockers, Blue</td>\n      <td>408.300</td>\n      <td>2</td>\n      <td>0.0</td>\n      <td>106.1400</td>\n      <td>35.46</td>\n      <td>Medium</td>\n    </tr>\n    <tr>\n      <th>1</th>\n      <td>22253</td>\n      <td>IN-2011-47883</td>\n      <td>Standard Class</td>\n      <td>JH-15985</td>\n      <td>Joseph Holt</td>\n      <td>2011-01-01</td>\n      <td>2011-08-01</td>\n      <td>Consumer</td>\n      <td>Wagga Wagga</td>\n      <td>New South Wales</td>\n      <td>...</td>\n      <td>OFF-SU-10000618</td>\n      <td>Office Supplies</td>\n      <td>Supplies</td>\n      <td>Acme Trimmer, High Speed</td>\n      <td>120.366</td>\n      <td>3</td>\n      <td>0.1</td>\n      <td>36.0360</td>\n      <td>9.72</td>\n      <td>Medium</td>\n    </tr>\n    <tr>\n      <th>2</th>\n      <td>48883</td>\n      <td>HU-2011-1220</td>\n      <td>Second Class</td>\n      <td>AT-735</td>\n      <td>Annie Thurman</td>\n      <td>2011-01-01</td>\n      <td>2011-05-01</td>\n      <td>Consumer</td>\n      <td>Budapest</td>\n      <td>Budapest</td>\n      <td>...</td>\n      <td>OFF-TEN-10001585</td>\n      <td>Office Supplies</td>\n      <td>Storage</td>\n      <td>Tenex Box, Single Width</td>\n      <td>66.120</td>\n      <td>4</td>\n      <td>0.0</td>\n      <td>29.6400</td>\n      <td>8.17</td>\n      <td>High</td>\n    </tr>\n    <tr>\n      <th>3</th>\n      <td>11731</td>\n      <td>IT-2011-3647632</td>\n      <td>Second Class</td>\n      <td>EM-14140</td>\n      <td>Eugene Moren</td>\n      <td>2011-01-01</td>\n      <td>2011-05-01</td>\n      <td>Home Office</td>\n      <td>Stockholm</td>\n      <td>Stockholm</td>\n      <td>...</td>\n      <td>OFF-PA-10001492</td>\n      <td>Office Supplies</td>\n      <td>Paper</td>\n      <td>Enermax Note Cards, Premium</td>\n      <td>44.865</td>\n      <td>3</td>\n      <td>0.5</td>\n      <td>-26.0550</td>\n      <td>4.82</td>\n      <td>High</td>\n    </tr>\n    <tr>\n      <th>4</th>\n      <td>22255</td>\n      <td>IN-2011-47883</td>\n      <td>Standard Class</td>\n      <td>JH-15985</td>\n      <td>Joseph Holt</td>\n      <td>2011-01-01</td>\n      <td>2011-08-01</td>\n      <td>Consumer</td>\n      <td>Wagga Wagga</td>\n      <td>New South Wales</td>\n      <td>...</td>\n      <td>FUR-FU-10003447</td>\n      <td>Furniture</td>\n      <td>Furnishings</td>\n      <td>Eldon Light Bulb, Duo Pack</td>\n      <td>113.670</td>\n      <td>5</td>\n      <td>0.1</td>\n      <td>37.7700</td>\n      <td>4.70</td>\n      <td>Medium</td>\n    </tr>\n    <tr>\n      <th>...</th>\n      <td>...</td>\n      <td>...</td>\n      <td>...</td>\n      <td>...</td>\n      <td>...</td>\n      <td>...</td>\n      <td>...</td>\n      <td>...</td>\n      <td>...</td>\n      <td>...</td>\n      <td>...</td>\n      <td>...</td>\n      <td>...</td>\n      <td>...</td>\n      <td>...</td>\n      <td>...</td>\n      <td>...</td>\n      <td>...</td>\n      <td>...</td>\n      <td>...</td>\n      <td>...</td>\n    </tr>\n    <tr>\n      <th>95</th>\n      <td>3684</td>\n      <td>US-2011-148852</td>\n      <td>Second Class</td>\n      <td>VP-21760</td>\n      <td>Victoria Pisteka</td>\n      <td>2011-01-04</td>\n      <td>2011-04-04</td>\n      <td>Corporate</td>\n      <td>Arraiján</td>\n      <td>Panama</td>\n      <td>...</td>\n      <td>OFF-BI-10004305</td>\n      <td>Office Supplies</td>\n      <td>Binders</td>\n      <td>Cardinal Hole Reinforcements, Durable</td>\n      <td>10.944</td>\n      <td>4</td>\n      <td>0.4</td>\n      <td>-3.1360</td>\n      <td>1.37</td>\n      <td>High</td>\n    </tr>\n    <tr>\n      <th>96</th>\n      <td>2463</td>\n      <td>MX-2011-167773</td>\n      <td>Standard Class</td>\n      <td>LS-17245</td>\n      <td>Lynn Smith</td>\n      <td>2011-01-04</td>\n      <td>2011-05-04</td>\n      <td>Consumer</td>\n      <td>Bogotá</td>\n      <td>Bogota</td>\n      <td>...</td>\n      <td>OFF-BI-10002222</td>\n      <td>Office Supplies</td>\n      <td>Binders</td>\n      <td>Cardinal Binder Covers, Clear</td>\n      <td>15.280</td>\n      <td>2</td>\n      <td>0.0</td>\n      <td>1.9600</td>\n      <td>1.20</td>\n      <td>High</td>\n    </tr>\n    <tr>\n      <th>97</th>\n      <td>32670</td>\n      <td>US-2011-157021</td>\n      <td>Second Class</td>\n      <td>KM-16720</td>\n      <td>Kunst Miller</td>\n      <td>2011-01-04</td>\n      <td>2011-06-04</td>\n      <td>Consumer</td>\n      <td>Vallejo</td>\n      <td>California</td>\n      <td>...</td>\n      <td>OFF-BI-10000042</td>\n      <td>Office Supplies</td>\n      <td>Binders</td>\n      <td>Pressboard Data Binder, Crimson, 12\" X 8 1/2\"</td>\n      <td>17.088</td>\n      <td>4</td>\n      <td>0.2</td>\n      <td>5.5536</td>\n      <td>0.65</td>\n      <td>Medium</td>\n    </tr>\n    <tr>\n      <th>98</th>\n      <td>39251</td>\n      <td>CA-2011-138359</td>\n      <td>Standard Class</td>\n      <td>KH-16330</td>\n      <td>Katharine Harms</td>\n      <td>2011-01-04</td>\n      <td>2011-06-04</td>\n      <td>Corporate</td>\n      <td>Revere</td>\n      <td>Massachusetts</td>\n      <td>...</td>\n      <td>OFF-BI-10000145</td>\n      <td>Office Supplies</td>\n      <td>Binders</td>\n      <td>Zipper Ring Binder Pockets</td>\n      <td>6.240</td>\n      <td>2</td>\n      <td>0.0</td>\n      <td>3.0576</td>\n      <td>0.34</td>\n      <td>Medium</td>\n    </tr>\n    <tr>\n      <th>99</th>\n      <td>22375</td>\n      <td>ID-2011-77192</td>\n      <td>Standard Class</td>\n      <td>RP-19270</td>\n      <td>Rachel Payne</td>\n      <td>2011-01-04</td>\n      <td>2011-05-04</td>\n      <td>Corporate</td>\n      <td>Aew?l-li</td>\n      <td>Jeju</td>\n      <td>...</td>\n      <td>OFF-LA-10001764</td>\n      <td>Office Supplies</td>\n      <td>Labels</td>\n      <td>Avery Round Labels, Adjustable</td>\n      <td>10.080</td>\n      <td>4</td>\n      <td>0.5</td>\n      <td>-9.1200</td>\n      <td>0.32</td>\n      <td>Medium</td>\n    </tr>\n  </tbody>\n</table>\n<p>100 rows × 24 columns</p>\n</div>"
     },
     "execution_count": 45,
     "metadata": {},
     "output_type": "execute_result"
    }
   ],
   "source": [
    "df.head(100)"
   ],
   "metadata": {
    "collapsed": false,
    "pycharm": {
     "name": "#%%\n"
    }
   }
  },
  {
   "cell_type": "code",
   "execution_count": 47,
   "outputs": [],
   "source": [
    "df.to_csv('../data/superstore_final.csv', index=False,  encoding='ISO-8859-1')"
   ],
   "metadata": {
    "collapsed": false,
    "pycharm": {
     "name": "#%%\n"
    }
   }
  },
  {
   "cell_type": "code",
   "execution_count": null,
   "outputs": [],
   "source": [],
   "metadata": {
    "collapsed": false,
    "pycharm": {
     "name": "#%%\n"
    }
   }
  }
 ],
 "metadata": {
  "kernelspec": {
   "display_name": "Python 3",
   "language": "python",
   "name": "python3"
  },
  "language_info": {
   "codemirror_mode": {
    "name": "ipython",
    "version": 2
   },
   "file_extension": ".py",
   "mimetype": "text/x-python",
   "name": "python",
   "nbconvert_exporter": "python",
   "pygments_lexer": "ipython2",
   "version": "2.7.6"
  }
 },
 "nbformat": 4,
 "nbformat_minor": 0
}